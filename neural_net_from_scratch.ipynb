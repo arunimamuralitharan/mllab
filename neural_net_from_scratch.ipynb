{
  "nbformat": 4,
  "nbformat_minor": 0,
  "metadata": {
    "colab": {
      "provenance": [],
      "authorship_tag": "ABX9TyNA+dkpgcHK9C79OLjaPYy2",
      "include_colab_link": true
    },
    "kernelspec": {
      "name": "python3",
      "display_name": "Python 3"
    },
    "language_info": {
      "name": "python"
    }
  },
  "cells": [
    {
      "cell_type": "markdown",
      "metadata": {
        "id": "view-in-github",
        "colab_type": "text"
      },
      "source": [
        "<a href=\"https://colab.research.google.com/github/arunimamuralitharan/mlprojects/blob/main/neural_net_from_scratch.ipynb\" target=\"_parent\"><img src=\"https://colab.research.google.com/assets/colab-badge.svg\" alt=\"Open In Colab\"/></a>"
      ]
    },
    {
      "cell_type": "code",
      "execution_count": 6,
      "metadata": {
        "id": "WHeRq2cjZcBg"
      },
      "outputs": [],
      "source": [
        "import numpy as np\n",
        "import pandas as pd\n",
        "import matplotlib.pyplot as plt\n",
        "from sklearn.model_selection import train_test_split\n",
        "from sklearn.preprocessing import StandardScaler\n",
        "from sklearn.metrics import mean_squared_error\n",
        "from statistics import mean\n",
        "from typing import Dict, List, Tuple\n",
        "\n",
        "np.random.seed(42)\n",
        "\n",
        "class Neural:\n",
        "\n",
        "    def __init__(self, layers: List[int], epochs: int,\n",
        "                 learning_rate: float = 0.001, batch_size: int=32,\n",
        "                 validation_split: float = 0.2, verbose: int=1):\n",
        "        self._layer_structure: List[int] = layers\n",
        "        self._batch_size: int = batch_size\n",
        "        self._epochs: int = epochs\n",
        "        self._learning_rate: float = learning_rate\n",
        "        self._validation_split: float = validation_split\n",
        "        self._verbose: int = verbose\n",
        "        self._losses: Dict[str, float] = {\"train\": [], \"validation\": []}\n",
        "        self._is_fit: bool = False\n",
        "        self.__layers = None\n",
        "\n",
        "    def fit(self, X: np.ndarray, y: np.ndarray) -> None:\n",
        "        # validation split\n",
        "        X, X_val, y, y_val = train_test_split(X, y, test_size=self._validation_split, random_state=42)\n",
        "        # initialization of layers\n",
        "        self.__layers = self.__init_layers()\n",
        "        for epoch in range(self._epochs):\n",
        "            epoch_losses = []\n",
        "            for i in range(1, len(self.__layers)):\n",
        "                # forward pass\n",
        "                x_batch = X[i:(i+self._batch_size)]\n",
        "                y_batch = y[i:(i+self._batch_size)]\n",
        "                pred, hidden = self.__forward(x_batch)\n",
        "                # calculate loss\n",
        "                loss = self.__calculate_loss(y_batch, pred)\n",
        "                epoch_losses.append(np.mean(loss ** 2))\n",
        "                #backward\n",
        "                self.__backward(hidden, loss)\n",
        "            valid_preds, _ = self.__forward(X_val)\n",
        "            train_loss = mean(epoch_losses)\n",
        "            valid_loss = np.mean(self.__calculate_mse(valid_preds,y_val))\n",
        "            self._losses[\"train\"].append(train_loss)\n",
        "            self._losses[\"validation\"].append(valid_loss)\n",
        "            if self._verbose:\n",
        "                print(f\"Epoch: {epoch} Train MSE: {train_loss} Valid MSE: {valid_loss}\")\n",
        "        self._is_fit = True\n",
        "        return\n",
        "\n",
        "    def predict(self, X: np.ndarray) -> np.ndarray:\n",
        "        if self._is_fit == False:\n",
        "            raise Exception(\"Model has not been trained yet.\")\n",
        "        pred, hidden = self.__forward(X)\n",
        "        return pred\n",
        "\n",
        "    def plot_learning(self) -> None:\n",
        "        plt.plot(self._losses[\"train\"],label=\"loss\")\n",
        "        plt.plot(self._losses[\"validation\"],label=\"validation\")\n",
        "        plt.legend()\n",
        "\n",
        "    def __init_layers(self) -> List[np.ndarray]:\n",
        "        layers = []\n",
        "        for i in range(1, len(self._layer_structure)):\n",
        "            layers.append([\n",
        "                np.random.rand(self._layer_structure[i-1], self._layer_structure[i]) / 5 - .1,\n",
        "                np.ones((1,self._layer_structure[i]))\n",
        "            ])\n",
        "        return layers\n",
        "\n",
        "    def __forward(self, batch: np.ndarray) -> Tuple[np.ndarray, List[np.ndarray]]:\n",
        "        hidden = [batch.copy()]\n",
        "        for i in range(len(self.__layers)):\n",
        "            batch = np.matmul(batch, self.__layers[i][0]) + self.__layers[i][1]\n",
        "            if i < len(self.__layers) - 1:\n",
        "                batch = np.maximum(batch, 0)\n",
        "            # store the forward pass hidden values for use in backprop\n",
        "            hidden.append(batch.copy())\n",
        "        return batch, hidden\n",
        "\n",
        "    def __calculate_loss(self,actual: np.ndarray, predicted: np.ndarray) -> np.ndarray:\n",
        "        \"mse\"\n",
        "        return predicted - actual\n",
        "\n",
        "\n",
        "    def __calculate_mse(self, actual: np.ndarray, predicted: np.ndarray) -> np.ndarray:\n",
        "        return (actual - predicted) ** 2\n",
        "\n",
        "    def __backward(self, hidden: List[np.ndarray], grad: np.ndarray) -> None:\n",
        "        for i in range(len(self.__layers)-1, -1, -1):\n",
        "            if i != len(self.__layers) - 1:\n",
        "                grad = np.multiply(grad, np.heaviside(hidden[i+1], 0))\n",
        "\n",
        "            w_grad = hidden[i].T @ grad\n",
        "            b_grad = np.mean(grad, axis=0)\n",
        "\n",
        "            self.__layers[i][0] -= w_grad * self._learning_rate\n",
        "            self.__layers[i][1] -= b_grad * self._learning_rate\n",
        "\n",
        "            grad = grad @ self.__layers[i][0].T\n",
        "        return"
      ]
    },
    {
      "cell_type": "code",
      "source": [
        "def generate_data():\n",
        "    # define correlation values\n",
        "    corr_a = 0.6\n",
        "    corr_b = 0.2\n",
        "    corr_c = -0.5\n",
        "\n",
        "    # generate independent features\n",
        "    a = np.random.normal(0, 1, size=100000)\n",
        "    b = np.random.normal(0, 1, size=100000)\n",
        "    c = np.random.normal(0, 1, size=100000)\n",
        "    d = np.random.randint(0, 4, size=100000)\n",
        "    e = np.random.binomial(1, 0.5, size=100000)\n",
        "\n",
        "    # generate target feature based on independent features\n",
        "    target = 50 + corr_a*a + corr_b*b + corr_c*c + d*10 + 20*e + np.random.normal(0, 10, size=100000)\n",
        "\n",
        "    # create dataframe with all features\n",
        "    df = pd.DataFrame({'a': a, 'b': b, 'c': c, 'd': d, 'e': e, 'target': target})\n",
        "    return df"
      ],
      "metadata": {
        "id": "iPj2z1Y7L1Fc"
      },
      "execution_count": 7,
      "outputs": []
    },
    {
      "cell_type": "code",
      "source": [
        "df = generate_data()\n",
        "\n",
        "# separate the features and target\n",
        "X = df.drop('target', axis=1)\n",
        "y = df['target']\n",
        "\n",
        "scaler = StandardScaler()\n",
        "X = scaler.fit_transform(X)\n",
        "\n",
        "# split the dataset into training and testing sets\n",
        "X_train, X_test, y_train, y_test = train_test_split(X, y, test_size=0.2, random_state=42)\n",
        "y_train = y_train.to_numpy().reshape(-1,1)\n",
        "y_test = y_test.to_numpy().reshape(-1,1)\n",
        "\n",
        "layer_structure = [X_train.shape[1],10,10,1]\n",
        "nn = Neural(layer_structure, 20, 1e-5, 64, 0.2, 1)\n",
        "\n",
        "nn.fit(X_train, y_train)\n",
        "\n",
        "y_pred = nn.predict(X_test)\n",
        "nn.plot_learning()\n",
        "\n",
        "print(\"Test error: \",mean_squared_error(y_test, y_pred))"
      ],
      "metadata": {
        "colab": {
          "base_uri": "https://localhost:8080/",
          "height": 805
        },
        "id": "ViTW7ckUL5xP",
        "outputId": "d84a9436-a806-4a64-9ef3-43b2d5475fa3"
      },
      "execution_count": 8,
      "outputs": [
        {
          "output_type": "stream",
          "name": "stdout",
          "text": [
            "Epoch: 0 Train MSE: 6062.3206205749575 Valid MSE: 5631.0737072351785\n",
            "Epoch: 1 Train MSE: 5866.306096123896 Valid MSE: 5384.240748392434\n",
            "Epoch: 2 Train MSE: 5580.556680419229 Valid MSE: 4994.427907929647\n",
            "Epoch: 3 Train MSE: 5124.161497404786 Valid MSE: 4377.562635667046\n",
            "Epoch: 4 Train MSE: 4405.953911755627 Valid MSE: 3472.871360169871\n",
            "Epoch: 5 Train MSE: 3369.563557006041 Valid MSE: 2336.5070037222968\n",
            "Epoch: 6 Train MSE: 2113.682207963623 Valid MSE: 1248.7909982909491\n",
            "Epoch: 7 Train MSE: 1003.5176154764339 Valid MSE: 568.2722197838694\n",
            "Epoch: 8 Train MSE: 398.4459847420131 Valid MSE: 299.69175143855773\n",
            "Epoch: 9 Train MSE: 198.84190033315383 Valid MSE: 205.5391262886992\n",
            "Epoch: 10 Train MSE: 139.4828922968463 Valid MSE: 162.44549960761748\n",
            "Epoch: 11 Train MSE: 114.06247776792617 Valid MSE: 138.61028465676657\n",
            "Epoch: 12 Train MSE: 100.2531348985442 Valid MSE: 124.76054796405637\n",
            "Epoch: 13 Train MSE: 92.3871507397595 Valid MSE: 116.65651722705783\n",
            "Epoch: 14 Train MSE: 87.91223754639039 Valid MSE: 111.90806505550394\n",
            "Epoch: 15 Train MSE: 85.38593081194674 Valid MSE: 109.11137155535907\n",
            "Epoch: 16 Train MSE: 83.96974621728452 Valid MSE: 107.44552298925666\n",
            "Epoch: 17 Train MSE: 83.18037403813486 Valid MSE: 106.43546177951502\n",
            "Epoch: 18 Train MSE: 82.7423410854606 Valid MSE: 105.8083683676607\n",
            "Epoch: 19 Train MSE: 82.5001146883594 Valid MSE: 105.4081607436656\n",
            "Test error:  105.40268311074588\n"
          ]
        },
        {
          "output_type": "display_data",
          "data": {
            "text/plain": [
              "<Figure size 640x480 with 1 Axes>"
            ],
            "image/png": "[encoded data removed]"
          },
          "metadata": {}
        }
      ]
    }
  ]
}