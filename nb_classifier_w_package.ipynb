{
  "nbformat": 4,
  "nbformat_minor": 0,
  "metadata": {
    "colab": {
      "provenance": [],
      "authorship_tag": "ABX9TyPksHLef8c/56HQujBryGxX",
      "include_colab_link": true
    },
    "kernelspec": {
      "name": "python3",
      "display_name": "Python 3"
    },
    "language_info": {
      "name": "python"
    }
  },
  "cells": [
    {
      "cell_type": "markdown",
      "metadata": {
        "id": "view-in-github",
        "colab_type": "text"
      },
      "source": [
        "<a href=\"https://colab.research.google.com/github/arunimamuralitharan/mllab/blob/main/nb_classifier_w_package.ipynb\" target=\"_parent\"><img src=\"https://colab.research.google.com/assets/colab-badge.svg\" alt=\"Open In Colab\"/></a>"
      ]
    },
    {
      "cell_type": "code",
      "execution_count": null,
      "metadata": {
        "colab": {
          "base_uri": "https://localhost:8080/"
        },
        "id": "SS65wi9wozal",
        "outputId": "755d1e29-736c-48ee-f9dd-435c5b74e67b"
      },
      "outputs": [
        {
          "output_type": "stream",
          "name": "stdout",
          "text": [
            "Confusion Matrix:\n",
            " [[532   0]\n",
            " [  0 555]]\n",
            "Accuracy Score: 100.0\n",
            "Misclassified samples: 0\n"
          ]
        }
      ],
      "source": [
        "import numpy as np\n",
        "import pandas as pd\n",
        "\n",
        "data = pd.read_csv(\"https://raw.githubusercontent.com/arunimamuralitharan/mllab/main/covid.csv\")\n",
        "\n",
        "X = data.drop(columns=['Asthma', 'Fever', 'Headache', 'Breathing Problem', 'Sore throat','Diabetes'])\n",
        "y = data['Contact with COVID Patient']\n",
        "X_encoded = pd.get_dummies(X)\n",
        "\n",
        "from sklearn.model_selection import train_test_split\n",
        "train_X, test_X, train_y, test_y = train_test_split(X_encoded, y, test_size=0.2, random_state=42)\n",
        "\n",
        "from sklearn.naive_bayes import GaussianNB\n",
        "classifier = GaussianNB()\n",
        "classifier.fit(train_X, train_y)\n",
        "y_pred = classifier.predict(test_X)\n",
        "\n",
        "from sklearn.metrics import accuracy_score, confusion_matrix\n",
        "cm = confusion_matrix(test_y, y_pred)\n",
        "accuracy = accuracy_score(test_y, y_pred)\n",
        "\n",
        "print(\"Confusion Matrix:\\n\", cm)\n",
        "print(\"Accuracy Score:\", accuracy*100)\n",
        "print(\"Misclassified samples:\", (test_y != y_pred).sum())"
      ]
    }
  ]
}